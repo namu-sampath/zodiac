{
 "cells": [
  {
   "cell_type": "code",
   "execution_count": 15,
   "id": "034e0dfb",
   "metadata": {},
   "outputs": [],
   "source": [
    "import pandas as pd\n",
    "import re"
   ]
  },
  {
   "cell_type": "code",
   "execution_count": 82,
   "id": "3d00b324",
   "metadata": {},
   "outputs": [
    {
     "data": {
      "text/html": [
       "<div>\n",
       "<style scoped>\n",
       "    .dataframe tbody tr th:only-of-type {\n",
       "        vertical-align: middle;\n",
       "    }\n",
       "\n",
       "    .dataframe tbody tr th {\n",
       "        vertical-align: top;\n",
       "    }\n",
       "\n",
       "    .dataframe thead th {\n",
       "        text-align: right;\n",
       "    }\n",
       "</style>\n",
       "<table border=\"1\" class=\"dataframe\">\n",
       "  <thead>\n",
       "    <tr style=\"text-align: right;\">\n",
       "      <th></th>\n",
       "      <th>birthday</th>\n",
       "      <th>zodiac sign</th>\n",
       "      <th>element</th>\n",
       "      <th>age range</th>\n",
       "      <th>sex</th>\n",
       "      <th>personality traits</th>\n",
       "      <th>occupation</th>\n",
       "    </tr>\n",
       "  </thead>\n",
       "  <tbody>\n",
       "    <tr>\n",
       "      <th>0</th>\n",
       "      <td>November 4</td>\n",
       "      <td>Scorpio</td>\n",
       "      <td>water</td>\n",
       "      <td>40-49</td>\n",
       "      <td>Man</td>\n",
       "      <td>curious, trustworthy, passionate, proactive</td>\n",
       "      <td>Journalist</td>\n",
       "    </tr>\n",
       "    <tr>\n",
       "      <th>1</th>\n",
       "      <td>May 7</td>\n",
       "      <td>Taurus</td>\n",
       "      <td>earth</td>\n",
       "      <td>20-29</td>\n",
       "      <td>Woman</td>\n",
       "      <td>ambitious, imaginative, practical, sensitive</td>\n",
       "      <td>Journalist</td>\n",
       "    </tr>\n",
       "    <tr>\n",
       "      <th>2</th>\n",
       "      <td>August 7</td>\n",
       "      <td>Leo</td>\n",
       "      <td>fire</td>\n",
       "      <td>40-49</td>\n",
       "      <td>Woman</td>\n",
       "      <td>ambitious, spontaneous, practical, humanitarian</td>\n",
       "      <td>Journalist</td>\n",
       "    </tr>\n",
       "    <tr>\n",
       "      <th>3</th>\n",
       "      <td>March 11</td>\n",
       "      <td>Pisces</td>\n",
       "      <td>water</td>\n",
       "      <td>20-29</td>\n",
       "      <td>Man</td>\n",
       "      <td>ambitious, curious, spontaneous, sensitive</td>\n",
       "      <td>Journalist</td>\n",
       "    </tr>\n",
       "    <tr>\n",
       "      <th>4</th>\n",
       "      <td>May 6</td>\n",
       "      <td>Taurus</td>\n",
       "      <td>earth</td>\n",
       "      <td>50-59</td>\n",
       "      <td>Woman</td>\n",
       "      <td>ambitious, loyal, passionate, proactive</td>\n",
       "      <td>STEM-related field (computer science, engineer, doctor, researcher, etc.)</td>\n",
       "    </tr>\n",
       "    <tr>\n",
       "      <th>...</th>\n",
       "      <td>...</td>\n",
       "      <td>...</td>\n",
       "      <td>...</td>\n",
       "      <td>...</td>\n",
       "      <td>...</td>\n",
       "      <td>...</td>\n",
       "      <td>...</td>\n",
       "    </tr>\n",
       "    <tr>\n",
       "      <th>98</th>\n",
       "      <td>March 19</td>\n",
       "      <td>Pisces</td>\n",
       "      <td>water</td>\n",
       "      <td>17-19</td>\n",
       "      <td>Woman</td>\n",
       "      <td>optimist, imaginative, intuitive, sensitive</td>\n",
       "      <td>Student, STEM-related field (computer science, engineer, doctor, researcher, etc.)</td>\n",
       "    </tr>\n",
       "    <tr>\n",
       "      <th>99</th>\n",
       "      <td>March 5</td>\n",
       "      <td>Pisces</td>\n",
       "      <td>water</td>\n",
       "      <td>50-59</td>\n",
       "      <td>Woman</td>\n",
       "      <td>spontaneous, passionate, intuitive, spiritual</td>\n",
       "      <td>Homemaker</td>\n",
       "    </tr>\n",
       "    <tr>\n",
       "      <th>100</th>\n",
       "      <td>Aug 6</td>\n",
       "      <td>Leo</td>\n",
       "      <td>fire</td>\n",
       "      <td>20-29</td>\n",
       "      <td>Woman</td>\n",
       "      <td>trustworthy, spontaneous, practical, sensitive</td>\n",
       "      <td>STEM-related field (computer science, engineer, doctor, researcher, etc.)</td>\n",
       "    </tr>\n",
       "    <tr>\n",
       "      <th>101</th>\n",
       "      <td>June 13</td>\n",
       "      <td>Gemini</td>\n",
       "      <td>air</td>\n",
       "      <td>20-29</td>\n",
       "      <td>Man</td>\n",
       "      <td>trustworthy, optimist, reserved, patient</td>\n",
       "      <td>Student, STEM-related field (computer science, engineer, doctor, researcher, etc.)</td>\n",
       "    </tr>\n",
       "    <tr>\n",
       "      <th>102</th>\n",
       "      <td>September 10</td>\n",
       "      <td>Virgo</td>\n",
       "      <td>earth</td>\n",
       "      <td>20-29</td>\n",
       "      <td>Woman</td>\n",
       "      <td>ambitious, loyal, practical, humanitarian</td>\n",
       "      <td>STEM-related field (computer science, engineer, doctor, researcher, etc.)</td>\n",
       "    </tr>\n",
       "  </tbody>\n",
       "</table>\n",
       "<p>103 rows × 7 columns</p>\n",
       "</div>"
      ],
      "text/plain": [
       "         birthday zodiac sign element age range    sex                               personality traits                                                                          occupation\n",
       "0      November 4     Scorpio   water     40-49    Man      curious, trustworthy, passionate, proactive                                                                          Journalist\n",
       "1           May 7      Taurus   earth     20-29  Woman     ambitious, imaginative, practical, sensitive                                                                          Journalist\n",
       "2        August 7         Leo    fire     40-49  Woman  ambitious, spontaneous, practical, humanitarian                                                                          Journalist\n",
       "3        March 11      Pisces   water     20-29    Man       ambitious, curious, spontaneous, sensitive                                                                          Journalist\n",
       "4           May 6      Taurus   earth     50-59  Woman          ambitious, loyal, passionate, proactive           STEM-related field (computer science, engineer, doctor, researcher, etc.)\n",
       "..            ...         ...     ...       ...    ...                                              ...                                                                                 ...\n",
       "98       March 19      Pisces   water     17-19  Woman      optimist, imaginative, intuitive, sensitive  Student, STEM-related field (computer science, engineer, doctor, researcher, etc.)\n",
       "99        March 5      Pisces   water     50-59  Woman    spontaneous, passionate, intuitive, spiritual                                                                           Homemaker\n",
       "100         Aug 6         Leo    fire     20-29  Woman   trustworthy, spontaneous, practical, sensitive           STEM-related field (computer science, engineer, doctor, researcher, etc.)\n",
       "101       June 13      Gemini     air     20-29    Man         trustworthy, optimist, reserved, patient  Student, STEM-related field (computer science, engineer, doctor, researcher, etc.)\n",
       "102  September 10       Virgo   earth     20-29  Woman        ambitious, loyal, practical, humanitarian           STEM-related field (computer science, engineer, doctor, researcher, etc.)\n",
       "\n",
       "[103 rows x 7 columns]"
      ]
     },
     "execution_count": 82,
     "metadata": {},
     "output_type": "execute_result"
    }
   ],
   "source": [
    "zodiac = pd.read_csv(\"survey responses.csv\")\n",
    "zodiac"
   ]
  },
  {
   "cell_type": "code",
   "execution_count": 83,
   "id": "e2c20cd0",
   "metadata": {},
   "outputs": [],
   "source": [
    "df = pd.DataFrame(zodiac)"
   ]
  },
  {
   "cell_type": "code",
   "execution_count": 84,
   "id": "1d29445e",
   "metadata": {},
   "outputs": [
    {
     "name": "stdout",
     "output_type": "stream",
     "text": [
      "Duplicate rows:\n",
      "Empty DataFrame\n",
      "Columns: [birthday, zodiac sign, element, age range, sex, personality traits, occupation]\n",
      "Index: []\n"
     ]
    }
   ],
   "source": [
    "# Check for duplicate rows in the DataFrame\n",
    "duplicates = df[df.duplicated(keep=False)]\n",
    "\n",
    "print(\"Duplicate rows:\")\n",
    "print(duplicates)"
   ]
  },
  {
   "cell_type": "code",
   "execution_count": 85,
   "id": "506c9220",
   "metadata": {},
   "outputs": [
    {
     "data": {
      "text/plain": [
       "0      scorpio\n",
       "1       taurus\n",
       "2          leo\n",
       "3       pisces\n",
       "4       taurus\n",
       "        ...   \n",
       "98      pisces\n",
       "99      pisces\n",
       "100        leo\n",
       "101     gemini\n",
       "102      virgo\n",
       "Name: zodiac sign, Length: 103, dtype: object"
      ]
     },
     "execution_count": 85,
     "metadata": {},
     "output_type": "execute_result"
    }
   ],
   "source": [
    "#cleaning white spaces\n",
    "# Clean the 'zodiac sign' column by stripping whitespaces and converting to lowercase\n",
    "df['zodiac sign'] = df['zodiac sign'].str.strip().str.lower()\n",
    "df['zodiac sign']"
   ]
  },
  {
   "cell_type": "code",
   "execution_count": 86,
   "id": "f81ffe2f",
   "metadata": {},
   "outputs": [
    {
     "name": "stdout",
     "output_type": "stream",
     "text": [
      "scorpio: 7\n",
      "taurus: 6\n",
      "leo: 3\n",
      "pisces: 6\n",
      "capricorn: 9\n",
      "libra: 5\n",
      "sagittarius: 11\n",
      "gemini: 6\n",
      "cancer: 6\n",
      "aries: 5\n",
      "virgo: 5\n",
      "aquarius: 8\n"
     ]
    }
   ],
   "source": [
    "# Print unique values in the 'zodiac sign' column along with their lengths\n",
    "unique_zodiac_signs = df['zodiac sign'].unique()\n",
    "for sign in unique_zodiac_signs:\n",
    "    print(f\"{sign}: {len(sign)}\")"
   ]
  },
  {
   "cell_type": "code",
   "execution_count": 88,
   "id": "f109067e",
   "metadata": {},
   "outputs": [
    {
     "data": {
      "text/plain": [
       "0      scorpio\n",
       "1       taurus\n",
       "2          leo\n",
       "3       pisces\n",
       "4       taurus\n",
       "        ...   \n",
       "98      pisces\n",
       "99      pisces\n",
       "100        leo\n",
       "101     gemini\n",
       "102      virgo\n",
       "Name: zodiac sign, Length: 103, dtype: object"
      ]
     },
     "execution_count": 88,
     "metadata": {},
     "output_type": "execute_result"
    }
   ],
   "source": [
    "# Replace non-breaking spaces with regular spaces\n",
    "df['zodiac sign'] = df['zodiac sign'].str.replace('\\xa0', ' ')\n",
    "df['zodiac sign']"
   ]
  },
  {
   "cell_type": "code",
   "execution_count": 89,
   "id": "b23e0a26",
   "metadata": {},
   "outputs": [
    {
     "data": {
      "text/plain": [
       "zodiac sign\n",
       "leo            14\n",
       "libra          12\n",
       "scorpio        11\n",
       "virgo          11\n",
       "pisces         10\n",
       "capricorn       8\n",
       "gemini          8\n",
       "taurus          7\n",
       "cancer          7\n",
       "sagittarius     6\n",
       "aquarius        5\n",
       "aries           4\n",
       "Name: count, dtype: int64"
      ]
     },
     "execution_count": 89,
     "metadata": {},
     "output_type": "execute_result"
    }
   ],
   "source": [
    "# Count the occurrences of each zodiac sign\n",
    "zodiac_counts = df['zodiac sign'].value_counts()\n",
    "zodiac_counts"
   ]
  },
  {
   "cell_type": "code",
   "execution_count": 90,
   "id": "42dd1be7",
   "metadata": {},
   "outputs": [
    {
     "data": {
      "text/plain": [
       "age range\n",
       "20-29    61\n",
       "50-59    16\n",
       "40-49     9\n",
       "30-39     8\n",
       "60-69     5\n",
       "17-19     3\n",
       "70-79     1\n",
       "Name: count, dtype: int64"
      ]
     },
     "execution_count": 90,
     "metadata": {},
     "output_type": "execute_result"
    }
   ],
   "source": [
    "age_counts = df['age range'].value_counts()\n",
    "age_counts"
   ]
  },
  {
   "cell_type": "code",
   "execution_count": 91,
   "id": "10829e9a",
   "metadata": {},
   "outputs": [
    {
     "data": {
      "text/plain": [
       "element\n",
       "water    28\n",
       "earth    26\n",
       "air      25\n",
       "fire     24\n",
       "Name: count, dtype: int64"
      ]
     },
     "execution_count": 91,
     "metadata": {},
     "output_type": "execute_result"
    }
   ],
   "source": [
    "element_counts = df['element'].value_counts()\n",
    "element_counts"
   ]
  },
  {
   "cell_type": "code",
   "execution_count": 71,
   "id": "b20c645f",
   "metadata": {},
   "outputs": [
    {
     "data": {
      "text/plain": [
       "0          curious, trustworthy, passionate, proactive\n",
       "1         ambitious, imaginative, practical, sensitive\n",
       "2      ambitious, spontaneous, practical, humanitarian\n",
       "3           ambitious, curious, spontaneous, sensitive\n",
       "4              ambitious, loyal, passionate, proactive\n",
       "                            ...                       \n",
       "98         optimist, imaginative, intuitive, sensitive\n",
       "99       spontaneous, passionate, intuitive, spiritual\n",
       "100     trustworthy, spontaneous, practical, sensitive\n",
       "101           trustworthy, optimist, reserved, patient\n",
       "102          ambitious, loyal, practical, humanitarian\n",
       "Name: personality traits, Length: 103, dtype: object"
      ]
     },
     "execution_count": 71,
     "metadata": {},
     "output_type": "execute_result"
    }
   ],
   "source": []
  },
  {
   "cell_type": "code",
   "execution_count": 92,
   "id": "531f6481",
   "metadata": {},
   "outputs": [
    {
     "name": "stdout",
     "output_type": "stream",
     "text": [
      "zodiac sign: aquarius, most common personality trait: proactive\n",
      "zodiac sign: aries, most common personality trait: loyal\n",
      "zodiac sign: cancer, most common personality trait: loyal\n",
      "zodiac sign: capricorn, most common personality trait: practical\n",
      "zodiac sign: gemini, most common personality trait: curious\n",
      "zodiac sign: leo, most common personality trait: loyal\n",
      "zodiac sign: libra, most common personality trait: trustworthy\n",
      "zodiac sign: pisces, most common personality trait: imaginative\n",
      "zodiac sign: sagittarius, most common personality trait: proactive\n",
      "zodiac sign: scorpio, most common personality trait: curious\n",
      "zodiac sign: taurus, most common personality trait: ambitious\n",
      "zodiac sign: virgo, most common personality trait: curious\n"
     ]
    }
   ],
   "source": [
    "# Group the data by zodiac sign\n",
    "grouped_by_sign = df.groupby('zodiac sign')\n",
    "\n",
    "# Dictionary to store the most common personality trait for each sign\n",
    "most_common_traits = {}\n",
    "\n",
    "# Loop through each group and find the most common personality trait\n",
    "for sign, group in grouped_by_sign:\n",
    "    # Flatten the personality traits for each group into a single list\n",
    "    traits_list = [trait for traits in group['personality traits'] for trait in traits.split(', ')]\n",
    "    # Count occurrences of each trait\n",
    "    trait_counts = pd.Series(traits_list).value_counts()\n",
    "    # Get the most common trait\n",
    "    most_common_trait = trait_counts.index[0]\n",
    "    most_common_traits[sign] = most_common_trait\n",
    "\n",
    "# Print the results\n",
    "for sign, trait in most_common_traits.items():\n",
    "    print(f\"zodiac sign: {sign}, most common personality trait: {trait}\")"
   ]
  },
  {
   "cell_type": "code",
   "execution_count": 93,
   "id": "5aa357a0",
   "metadata": {},
   "outputs": [
    {
     "name": "stdout",
     "output_type": "stream",
     "text": [
      "age range: 17-19, most common personality trait: trustworthy\n",
      "age range: 20-29, most common personality trait: loyal\n",
      "age range: 30-39, most common personality trait: imaginative\n",
      "age range: 40-49, most common personality trait: trustworthy\n",
      "age range: 50-59, most common personality trait: trustworthy\n",
      "age range: 60-69, most common personality trait: passionate\n",
      "age range: 70-79, most common personality trait: ambitious\n"
     ]
    }
   ],
   "source": [
    "# Group the data by age range\n",
    "grouped_by_age = df.groupby('age range')\n",
    "\n",
    "# Dictionary to store the most common personality trait for each age range\n",
    "most_common_traits_by_age = {}\n",
    "\n",
    "# Loop through each group and find the most common personality trait\n",
    "for age_range, group in grouped_by_age:\n",
    "    # Flatten the personality traits for each group into a single list\n",
    "    traits_list = [trait for traits in group['personality traits'] for trait in traits.split(', ')]\n",
    "    # Count occurrences of each trait\n",
    "    trait_counts = pd.Series(traits_list).value_counts()\n",
    "    # Get the most common trait\n",
    "    most_common_trait = trait_counts.index[0]\n",
    "    most_common_traits_by_age[age_range] = most_common_trait\n",
    "\n",
    "# Print the results\n",
    "for age_range, trait in most_common_traits_by_age.items():\n",
    "    print(f\"age range: {age_range}, most common personality trait: {trait}\")"
   ]
  },
  {
   "cell_type": "code",
   "execution_count": 94,
   "id": "a829380b",
   "metadata": {},
   "outputs": [
    {
     "data": {
      "text/plain": [
       "occupation\n",
       "STEM-related field (computer science, engineer, doctor, researcher, etc.)                                                                           36\n",
       "Journalist                                                                                                                                          15\n",
       "Student                                                                                                                                             10\n",
       "Student, STEM-related field (computer science, engineer, doctor, researcher, etc.)                                                                   8\n",
       "Communications                                                                                                                                       4\n",
       "Creative (graphics person, visual artist, musician, etc.)                                                                                            4\n",
       "Homemaker                                                                                                                                            3\n",
       "STEM-related field (computer science, engineer, doctor, researcher, etc.), Creative (graphics person, visual artist, musician, etc.)                 3\n",
       "Finance                                                                                                                                              2\n",
       "Student, Journalist                                                                                                                                  2\n",
       "Political scientist, lawyer, etc.                                                                                                                    2\n",
       "Journalist, STEM-related field (computer science, engineer, doctor, researcher, etc.)                                                                2\n",
       "Education                                                                                                                                            2\n",
       "Journalist, STEM-related field (computer science, engineer, doctor, researcher, etc.), Creative (graphics person, visual artist, musician, etc.)     1\n",
       "Creative (graphics person, visual artist, musician, etc.), Marketing                                                                                 1\n",
       "Project planner                                                                                                                                      1\n",
       "Baker                                                                                                                                                1\n",
       "Education                                                                                                                                            1\n",
       "Risk Management                                                                                                                                      1\n",
       "Journalist, Political scientist, lawyer, etc.                                                                                                        1\n",
       "Bartender                                                                                                                                            1\n",
       "Unemployed                                                                                                                                           1\n",
       "Retired                                                                                                                                              1\n",
       "Name: count, dtype: int64"
      ]
     },
     "execution_count": 94,
     "metadata": {},
     "output_type": "execute_result"
    }
   ],
   "source": [
    "# what does your zodiac sign have to do with your profession? \n",
    "occupation_counts = df['occupation'].value_counts()\n",
    "occupation_counts"
   ]
  },
  {
   "cell_type": "code",
   "execution_count": 107,
   "id": "e4ebfb68",
   "metadata": {},
   "outputs": [
    {
     "name": "stdout",
     "output_type": "stream",
     "text": [
      "+-------------+---------------------------------------------------------------------------+-------+\n",
      "| Zodiac Sign |                           Most Common Profession                          | Count |\n",
      "+-------------+---------------------------------------------------------------------------+-------+\n",
      "|   aquarius  |                               Communications                              |   2   |\n",
      "|    aries    | STEM-related field (computer science, engineer, doctor, researcher, etc.) |   1   |\n",
      "|    cancer   | STEM-related field (computer science, engineer, doctor, researcher, etc.) |   2   |\n",
      "|  capricorn  | STEM-related field (computer science, engineer, doctor, researcher, etc.) |   2   |\n",
      "|    gemini   | STEM-related field (computer science, engineer, doctor, researcher, etc.) |   4   |\n",
      "|     leo     | STEM-related field (computer science, engineer, doctor, researcher, etc.) |   7   |\n",
      "|    libra    | STEM-related field (computer science, engineer, doctor, researcher, etc.) |   3   |\n",
      "|    pisces   | STEM-related field (computer science, engineer, doctor, researcher, etc.) |   3   |\n",
      "| sagittarius | STEM-related field (computer science, engineer, doctor, researcher, etc.) |   3   |\n",
      "|   scorpio   | STEM-related field (computer science, engineer, doctor, researcher, etc.) |   4   |\n",
      "|    taurus   | STEM-related field (computer science, engineer, doctor, researcher, etc.) |   4   |\n",
      "|    virgo    |                                  Student                                  |   3   |\n",
      "+-------------+---------------------------------------------------------------------------+-------+\n"
     ]
    }
   ],
   "source": [
    "from prettytable import PrettyTable\n",
    "\n",
    "# Group the data by zodiac sign\n",
    "grouped_by_sign = df.groupby('zodiac sign')\n",
    "\n",
    "# Dictionary to store the most common profession and count for each zodiac sign\n",
    "most_common_professions = {}\n",
    "\n",
    "# Loop through each group and find the most common profession\n",
    "for sign, group in grouped_by_sign:\n",
    "    # Count occurrences of each profession\n",
    "    profession_counts = group['occupation'].value_counts()\n",
    "    # Get the most common profession and its count\n",
    "    most_common_profession = profession_counts.index[0]\n",
    "    most_common_count = profession_counts.iloc[0]  # Count of the most common profession\n",
    "    most_common_professions[sign] = (most_common_profession, most_common_count)\n",
    "\n",
    "# Create a PrettyTable instance\n",
    "table = PrettyTable()\n",
    "table.field_names = [\"Zodiac Sign\", \"Most Common Profession\", \"Count\"]\n",
    "\n",
    "# Add data to the table\n",
    "for sign, (profession, count) in most_common_professions.items():\n",
    "    table.add_row([sign, profession, count])\n",
    "\n",
    "# Print the table\n",
    "print(table)"
   ]
  },
  {
   "cell_type": "code",
   "execution_count": 96,
   "id": "f6cd77b3",
   "metadata": {},
   "outputs": [
    {
     "name": "stdout",
     "output_type": "stream",
     "text": [
      "gender: Man, most common personality trait: trustworthy\n",
      "gender: Prefer not to say, most common personality trait: reserved\n",
      "gender: Woman, most common personality trait: loyal\n"
     ]
    }
   ],
   "source": [
    "# Group the data by gender\n",
    "grouped_by_gender = df.groupby('sex')\n",
    "\n",
    "# Dictionary to store the most common personality trait for each gender\n",
    "most_common_traits_by_gender = {}\n",
    "\n",
    "# Loop through each group and find the most common personality trait\n",
    "for gender, group in grouped_by_gender:\n",
    "    # Flatten the personality traits for each group into a single list\n",
    "    traits_list = [trait for traits in group['personality traits'] for trait in traits.split(', ')]\n",
    "    # Count occurrences of each trait\n",
    "    trait_counts = pd.Series(traits_list).value_counts()\n",
    "    # Get the most common trait\n",
    "    most_common_trait = trait_counts.index[0]\n",
    "    most_common_traits_by_gender[gender] = most_common_trait\n",
    "\n",
    "# Print the results\n",
    "for gender, trait in most_common_traits_by_gender.items():\n",
    "    print(f\"gender: {gender}, most common personality trait: {trait}\")"
   ]
  },
  {
   "cell_type": "code",
   "execution_count": 97,
   "id": "9228265c",
   "metadata": {},
   "outputs": [
    {
     "name": "stdout",
     "output_type": "stream",
     "text": [
      "gender: Man, zodiac Sign: aries, age range: 20-29, most common personality trait: curious\n",
      "gender: Man, zodiac Sign: cancer, age range: 20-29, most common personality trait: trustworthy\n",
      "gender: Man, zodiac Sign: cancer, age range: 50-59, most common personality trait: ambitious\n",
      "gender: Man, zodiac Sign: capricorn, age range: 50-59, most common personality trait: trustworthy\n",
      "gender: Man, zodiac Sign: gemini, age range: 20-29, most common personality trait: optimist\n",
      "gender: Man, zodiac Sign: gemini, age range: 40-49, most common personality trait: curious\n",
      "gender: Man, zodiac Sign: gemini, age range: 60-69, most common personality trait: trustworthy\n",
      "gender: Man, zodiac Sign: leo, age range: 20-29, most common personality trait: creative\n",
      "gender: Man, zodiac Sign: leo, age range: 50-59, most common personality trait: loyal\n",
      "gender: Man, zodiac Sign: leo, age range: 60-69, most common personality trait: curious\n",
      "gender: Man, zodiac Sign: libra, age range: 17-19, most common personality trait: \"life of the party\"\n",
      "gender: Man, zodiac Sign: libra, age range: 40-49, most common personality trait: curious\n",
      "gender: Man, zodiac Sign: libra, age range: 60-69, most common personality trait: imaginative\n",
      "gender: Man, zodiac Sign: pisces, age range: 20-29, most common personality trait: curious\n",
      "gender: Man, zodiac Sign: sagittarius, age range: 20-29, most common personality trait: ambitious\n",
      "gender: Man, zodiac Sign: sagittarius, age range: 50-59, most common personality trait: trustworthy\n",
      "gender: Man, zodiac Sign: scorpio, age range: 20-29, most common personality trait: ambitious\n",
      "gender: Man, zodiac Sign: scorpio, age range: 30-39, most common personality trait: curious\n",
      "gender: Man, zodiac Sign: scorpio, age range: 40-49, most common personality trait: curious\n",
      "gender: Man, zodiac Sign: scorpio, age range: 50-59, most common personality trait: ambitious\n",
      "gender: Man, zodiac Sign: taurus, age range: 20-29, most common personality trait: loyal\n",
      "gender: Man, zodiac Sign: taurus, age range: 70-79, most common personality trait: ambitious\n",
      "gender: Man, zodiac Sign: virgo, age range: 50-59, most common personality trait: ambitious\n",
      "gender: Prefer not to say, zodiac Sign: capricorn, age range: 20-29, most common personality trait: reserved\n",
      "gender: Woman, zodiac Sign: aquarius, age range: 20-29, most common personality trait: proactive\n",
      "gender: Woman, zodiac Sign: aquarius, age range: 40-49, most common personality trait: curious\n",
      "gender: Woman, zodiac Sign: aries, age range: 50-59, most common personality trait: loyal\n",
      "gender: Woman, zodiac Sign: cancer, age range: 20-29, most common personality trait: loyal\n",
      "gender: Woman, zodiac Sign: cancer, age range: 50-59, most common personality trait: trustworthy\n",
      "gender: Woman, zodiac Sign: capricorn, age range: 20-29, most common personality trait: ambitious\n",
      "gender: Woman, zodiac Sign: capricorn, age range: 50-59, most common personality trait: trustworthy\n",
      "gender: Woman, zodiac Sign: gemini, age range: 20-29, most common personality trait: curious\n",
      "gender: Woman, zodiac Sign: gemini, age range: 30-39, most common personality trait: imaginative\n",
      "gender: Woman, zodiac Sign: leo, age range: 20-29, most common personality trait: trustworthy\n",
      "gender: Woman, zodiac Sign: leo, age range: 30-39, most common personality trait: curious\n",
      "gender: Woman, zodiac Sign: leo, age range: 40-49, most common personality trait: ambitious\n",
      "gender: Woman, zodiac Sign: leo, age range: 50-59, most common personality trait: trustworthy\n",
      "gender: Woman, zodiac Sign: libra, age range: 20-29, most common personality trait: ambitious\n",
      "gender: Woman, zodiac Sign: libra, age range: 40-49, most common personality trait: optimist\n",
      "gender: Woman, zodiac Sign: pisces, age range: 17-19, most common personality trait: optimist\n",
      "gender: Woman, zodiac Sign: pisces, age range: 20-29, most common personality trait: imaginative\n",
      "gender: Woman, zodiac Sign: pisces, age range: 30-39, most common personality trait: imaginative\n",
      "gender: Woman, zodiac Sign: pisces, age range: 50-59, most common personality trait: spontaneous\n",
      "gender: Woman, zodiac Sign: sagittarius, age range: 20-29, most common personality trait: proactive\n",
      "gender: Woman, zodiac Sign: sagittarius, age range: 30-39, most common personality trait: ambitious\n",
      "gender: Woman, zodiac Sign: sagittarius, age range: 60-69, most common personality trait: passionate\n",
      "gender: Woman, zodiac Sign: scorpio, age range: 20-29, most common personality trait: intuitive\n",
      "gender: Woman, zodiac Sign: scorpio, age range: 30-39, most common personality trait: ambitious\n",
      "gender: Woman, zodiac Sign: taurus, age range: 20-29, most common personality trait: ambitious\n",
      "gender: Woman, zodiac Sign: taurus, age range: 50-59, most common personality trait: ambitious\n",
      "gender: Woman, zodiac Sign: virgo, age range: 17-19, most common personality trait: ambitious\n",
      "gender: Woman, zodiac Sign: virgo, age range: 20-29, most common personality trait: curious\n",
      "gender: Woman, zodiac Sign: virgo, age range: 30-39, most common personality trait: curious\n",
      "gender: Woman, zodiac Sign: virgo, age range: 50-59, most common personality trait: trustworthy\n"
     ]
    }
   ],
   "source": [
    "# Group the data by gender, zodiac sign, and age range\n",
    "grouped_by_attributes = df.groupby(['sex', 'zodiac sign', 'age range'])\n",
    "\n",
    "# Dictionary to store the most common personality trait for each combination\n",
    "most_common_traits_by_attributes = {}\n",
    "\n",
    "# Loop through each group and find the most common personality trait\n",
    "for attributes, group in grouped_by_attributes:\n",
    "    # Flatten the personality traits for each group into a single list\n",
    "    traits_list = [trait for traits in group['personality traits'] for trait in traits.split(', ')]\n",
    "    # Count occurrences of each trait\n",
    "    trait_counts = pd.Series(traits_list).value_counts()\n",
    "    # Get the most common trait\n",
    "    most_common_trait = trait_counts.index[0]\n",
    "    most_common_traits_by_attributes[attributes] = most_common_trait\n",
    "\n",
    "# Print the results\n",
    "for attributes, trait in most_common_traits_by_attributes.items():\n",
    "    gender, zodiac_sign, age_range = attributes\n",
    "    print(f\"gender: {gender}, zodiac Sign: {zodiac_sign}, age range: {age_range}, most common personality trait: {trait}\")"
   ]
  },
  {
   "cell_type": "code",
   "execution_count": 98,
   "id": "fed3dbf8",
   "metadata": {},
   "outputs": [
    {
     "name": "stdout",
     "output_type": "stream",
     "text": [
      "element: air, most common personality trait: trustworthy\n",
      "element: earth, most common personality trait: ambitious\n",
      "element: fire, most common personality trait: loyal\n",
      "element: water, most common personality trait: curious\n"
     ]
    }
   ],
   "source": [
    "# Group the data by element\n",
    "grouped_by_element = df.groupby('element')\n",
    "\n",
    "# Dictionary to store the most common personality trait for each element\n",
    "most_common_traits_by_element = {}\n",
    "\n",
    "# Loop through each group and find the most common personality trait\n",
    "for element, group in grouped_by_element:\n",
    "    # Flatten the personality traits for each group into a single list\n",
    "    traits_list = [trait for traits in group['personality traits'] for trait in traits.split(', ')]\n",
    "    # Count occurrences of each trait\n",
    "    trait_counts = pd.Series(traits_list).value_counts()\n",
    "    # Get the most common trait\n",
    "    most_common_trait = trait_counts.index[0]\n",
    "    most_common_traits_by_element[element] = most_common_trait\n",
    "\n",
    "# Print the results\n",
    "for element, trait in most_common_traits_by_element.items():\n",
    "    print(f\"element: {element}, most common personality trait: {trait}\")"
   ]
  },
  {
   "cell_type": "code",
   "execution_count": 101,
   "id": "54280aed",
   "metadata": {},
   "outputs": [
    {
     "data": {
      "text/plain": [
       "birthday\n",
       "September 1     3\n",
       "June 13         2\n",
       "October 5       2\n",
       "November 13     2\n",
       "July 29         2\n",
       "               ..\n",
       "February 17     1\n",
       "March 31        1\n",
       "January 17      1\n",
       "June 19         1\n",
       "September 10    1\n",
       "Name: count, Length: 93, dtype: int64"
      ]
     },
     "execution_count": 101,
     "metadata": {},
     "output_type": "execute_result"
    }
   ],
   "source": [
    "# same birthday?\n",
    "birthday_counts = df['birthday'].value_counts()\n",
    "\n",
    "# Print the results\n",
    "birthday_counts"
   ]
  },
  {
   "cell_type": "code",
   "execution_count": null,
   "id": "e546430f",
   "metadata": {},
   "outputs": [],
   "source": []
  }
 ],
 "metadata": {
  "kernelspec": {
   "display_name": "Python 3 (ipykernel)",
   "language": "python",
   "name": "python3"
  },
  "language_info": {
   "codemirror_mode": {
    "name": "ipython",
    "version": 3
   },
   "file_extension": ".py",
   "mimetype": "text/x-python",
   "name": "python",
   "nbconvert_exporter": "python",
   "pygments_lexer": "ipython3",
   "version": "3.10.11"
  }
 },
 "nbformat": 4,
 "nbformat_minor": 5
}
